{
 "metadata": {
  "name": "",
  "signature": "sha256:11caeaa64c86256d625dda8d658d603ab62ef2d57ebc8c25ec68046a553414f1"
 },
 "nbformat": 3,
 "nbformat_minor": 0,
 "worksheets": [
  {
   "cells": [
    {
     "cell_type": "markdown",
     "metadata": {},
     "source": [
      "# ECL Summary Reading\n",
      "This notebook is intended to be used for reading and plotting data from ECLIPSE summary files, i.e. `UNSMRY` and `SMSPEC` files, thus it can also be used to read the files written by the _Flow_ reservoir simulator.\n",
      "\n",
      "## Requirements\n",
      "This notebook uses the `ecl_sum` module from the `ecl` library in the [ERT package](https://github.com/Ensembles/ert)."
     ]
    },
    {
     "cell_type": "heading",
     "level": 2,
     "metadata": {},
     "source": [
      "File Paths & Imports"
     ]
    },
    {
     "cell_type": "code",
     "collapsed": false,
     "input": [
      "from ert.ecl import ecl_sum\n",
      "import numpy as np\n",
      "from matplotlib import pyplot as plt\n",
      "\n",
      "#summary_path = '/home/einar/fieldopt_output/5SPOT'\n",
      "#summary_path = '/home/einar/Documents/testpit/simulation/flow/spe9/SPE9'\n",
      "#summary_path = '/home/einar/Documents/testpit/simulation/flow/spe1/SPE1CASE1'\n",
      "#summary_path = '/home/einar/Documents/GitHub/PCG/FieldOpt/examples/ECLIPSE/HORZWELL/HORZWELL'\n",
      "summary_path = '/home/einar/Documents/GitHub/PCG/FieldOpt/examples/Flow/5spot/5SPOT'\n",
      "#summary_path = '/home/einar/Documents/GitHub/PCG/FieldOpt/examples/Flow/norne/NORNE_ATW2013'"
     ],
     "language": "python",
     "metadata": {},
     "outputs": [],
     "prompt_number": 119
    },
    {
     "cell_type": "heading",
     "level": 2,
     "metadata": {},
     "source": [
      "Read the summary file and print keys"
     ]
    },
    {
     "cell_type": "code",
     "collapsed": false,
     "input": [
      "sum = ecl_sum.EclSum(summary_path)\n",
      "print 'Case: ', sum.case\n",
      "print 'Wells: ', sum.wells()\n",
      "#print 'Groups: ', sum.groups()\n",
      "#print 'Keys: ', sum.keys()\n",
      "#print 'Time: ', sum.get_days()"
     ],
     "language": "python",
     "metadata": {},
     "outputs": [
      {
       "output_type": "stream",
       "stream": "stdout",
       "text": [
        "Case:  /home/einar/Documents/GitHub/PCG/FieldOpt/examples/Flow/5spot/5SPOT\n",
        "Wells:  ['INJ1','PROD1','PROD2','PROD3','PROD4']\n"
       ]
      }
     ],
     "prompt_number": 120
    },
    {
     "cell_type": "heading",
     "level": 2,
     "metadata": {},
     "source": [
      "Read and plot summary data"
     ]
    },
    {
     "cell_type": "code",
     "collapsed": false,
     "input": [
      "sum = ecl_sum.EclSum(summary_path)\n",
      "data = {}\n",
      "for key in sum.keys():\n",
      "    data[key] = sum.get_values(key)\n",
      "    \n",
      "%matplotlib inline\n",
      "for key in data.keys():\n",
      "    if key.split(':')[0] == 'WOPT':\n",
      "        plt.plot(sum.get_days(), data[key])"
     ],
     "language": "python",
     "metadata": {},
     "outputs": [
      {
       "metadata": {},
       "output_type": "display_data",
       "png": "[encoded data removed]",
       "text": [
        "<matplotlib.figure.Figure at 0x7ff154b95910>"
       ]
      }
     ],
     "prompt_number": 137
    },
    {
     "cell_type": "code",
     "collapsed": false,
     "input": [],
     "language": "python",
     "metadata": {},
     "outputs": []
    }
   ],
   "metadata": {}
  }
 ]
}