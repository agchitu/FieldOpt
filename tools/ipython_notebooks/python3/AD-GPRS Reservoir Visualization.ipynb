{
 "metadata": {
  "name": "",
  "signature": "sha256:75ee4e52c4e35c71adfa8db1cb3c182c339f7d2c7b0b156244dcd16a584a935e"
 },
 "nbformat": 3,
 "nbformat_minor": 0,
 "worksheets": [
  {
   "cells": [
    {
     "cell_type": "heading",
     "level": 1,
     "metadata": {},
     "source": [
      "Paths and Grid Information"
     ]
    },
    {
     "cell_type": "code",
     "collapsed": false,
     "input": [
      "h5_path = \"/home/einar/Documents/GitHub/PCG/fieldopt_output/adgprs7/5SPOT.SIM.H5\"\n",
      "nx = 60\n",
      "ny = 60\n",
      "nz = 1"
     ],
     "language": "python",
     "metadata": {},
     "outputs": [],
     "prompt_number": 1
    },
    {
     "cell_type": "heading",
     "level": 1,
     "metadata": {},
     "source": [
      "Read Grid Data From HDF5 File"
     ]
    },
    {
     "cell_type": "code",
     "collapsed": false,
     "input": [
      "import h5py\n",
      "import numpy as np\n",
      "\n",
      "# Read the HDF5 file\n",
      "h5_file = h5py.File(h5_path, 'r')\n",
      "\n",
      "# Get the RESTART and FLOW_TRANSPORT groups from the file\n",
      "h5_restart_group = h5_file['RESTART']\n",
      "h5_flow_transport_group = h5_file['FLOW_TRANSPORT']\n",
      "\n",
      "# Get the GRIDPROPTIME table from the FLOW_TRANSPORT group\n",
      "# It is a three dimensional table [Block, Prop, Time]\n",
      "#   For a dead oil run:\n",
      "#     Rows: Nx * Ny * Nz\n",
      "#     Columns: 3 (status, pressure, S_w)\n",
      "#     Layers: 1 pr. time step\n",
      "# \n",
      "#   For a black oil run:\n",
      "#     Rows: Nx * Ny * Nz\n",
      "#     Columns: 6 (status, pressure, y_oil, x_oil, S_g, S_o)\n",
      "#     Layers: 1 pr. time step\n",
      "h5_gridproptime_table = h5_flow_transport_group['GRIDPROPTIME']\n",
      "\n",
      "# Get the TIMES table from the RESTART group\n",
      "h5_times_table = h5_restart_group['TIMES']\n",
      "\n",
      "# Extract the 1D time step vector from the TIMES table\n",
      "vec_time_steps = h5_times_table[:]  # 1D vector\n",
      "\n",
      "# Use the shape of the gridproptime table to determine whether this is a black or dead oil run\n",
      "if h5_gridproptime_table.shape[1] == 3:\n",
      "    dead_oil = True\n",
      "    black_oil = False\n",
      "else:\n",
      "    dead_oil = False\n",
      "    black_oil = True\n",
      "\n",
      "# Initialize arrays that will hold the block data\n",
      "pressure = np.zeros([len(vec_time_steps), nx, ny, nz])\n",
      "sat_oil  = np.zeros([len(vec_time_steps), nx, ny, nz])\n",
      "sat_wat  = np.zeros([len(vec_time_steps), nx, ny, nz])\n",
      "sat_gas  = np.zeros([len(vec_time_steps), nx, ny, nz])\n",
      "\n",
      "for t in range(len(vec_time_steps)):\n",
      "    row = 0\n",
      "    for z in range(nz):\n",
      "        for y in range(ny):\n",
      "            for x in range(nx):\n",
      "                pressure[t, x, y, z] = h5_gridproptime_table[row, 1, t]\n",
      "                sat_wat[t, x, y, z] = h5_gridproptime_table[row, 2, t]\n",
      "                sat_oil[t, x, y, z] = 1 - sat_wat[t, x, y, z]\n",
      "                row += 1"
     ],
     "language": "python",
     "metadata": {},
     "outputs": [],
     "prompt_number": 12
    },
    {
     "cell_type": "heading",
     "level": 1,
     "metadata": {},
     "source": [
      "Plot Data"
     ]
    },
    {
     "cell_type": "code",
     "collapsed": false,
     "input": [
      "from matplotlib import pyplot as plt\n",
      "x = np.arange(0, nx)\n",
      "y = np.arange(0, ny)\n",
      "z = sat_oil[0, :, :, 0]\n",
      "\n",
      "for t in range(len(vec_time_steps)):\n",
      "    if t == 0:\n",
      "        p = plt.imshow(z)\n",
      "        fig = plt.gcf()\n",
      "        plt.clim()\n",
      "        plt.title('Oil saturation')\n",
      "    else:\n",
      "        z = sat_oil[t, :, :, 0]\n",
      "        p.set_data(z)\n",
      "    plt.pause(1.0)"
     ],
     "language": "python",
     "metadata": {},
     "outputs": [],
     "prompt_number": 26
    },
    {
     "cell_type": "code",
     "collapsed": false,
     "input": [],
     "language": "python",
     "metadata": {},
     "outputs": []
    }
   ],
   "metadata": {}
  }
 ]
}