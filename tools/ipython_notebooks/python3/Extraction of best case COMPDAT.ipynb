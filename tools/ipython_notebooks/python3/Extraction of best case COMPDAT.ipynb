{
 "metadata": {
  "name": "",
  "signature": "sha256:3166821502340d3c3bc5c1680be46a1e5d33613c64658f110f684d08a261df00"
 },
 "nbformat": 3,
 "nbformat_minor": 0,
 "worksheets": [
  {
   "cells": [
    {
     "cell_type": "heading",
     "level": 1,
     "metadata": {},
     "source": [
      "1 Initialization"
     ]
    },
    {
     "cell_type": "heading",
     "level": 2,
     "metadata": {},
     "source": [
      "1.1 Read Logs and Create Data Container Objects"
     ]
    },
    {
     "cell_type": "code",
     "collapsed": false,
     "input": [
      "%matplotlib inline\n",
      "import LogReader as lr\n",
      "import LogDataStructures as ls\n",
      "fieldopt_path = \"/home/einar/Documents/GitHub/PCG/FieldOpt/\"\n",
      "output_dir_path = \"/home/einar/Documents/GitHub/PCG/fieldopt_output/adgprs5/\"\n",
      "hdf5_summary_file_name = \"5SPOT.SIM.H5\"\n",
      "reader = lr.LogReader(output_dir_path)\n",
      "case_container = ls.CaseContainer(reader.case_log, reader.property_uuid_name_map)\n",
      "optimizer = ls.Optimizer(reader.optimization_log, case_container)\n",
      "simulator = ls.Simulator(reader.simulation_log)"
     ],
     "language": "python",
     "metadata": {},
     "outputs": [
      {
       "output_type": "stream",
       "stream": "stdout",
       "text": [
        "WARNING: Appended an unevaluated latest case.\n"
       ]
      }
     ],
     "prompt_number": 19
    },
    {
     "cell_type": "heading",
     "level": 2,
     "metadata": {},
     "source": [
      "1.2 Read COMPDAT Log and Store it in the `compdat_map` Dictionary"
     ]
    },
    {
     "cell_type": "code",
     "collapsed": false,
     "input": [
      "compdat_log_path = \"/home/einar/Documents/GitHub/PCG/fieldopt_output/log_compdat.out\"\n",
      "compdat_file_lines = []\n",
      "with open(compdat_log_path, 'r') as f:\n",
      "    compdat_contents = f.read()\n",
      "    compdat_file_lines = compdat_contents.split(\"\\n\")\n",
      "\n",
      "compdat_map = {}\n",
      "l = 0\n",
      "while l < len(compdat_file_lines):\n",
      "    if len(compdat_file_lines[l].strip()) == 0: # Skip line if it contains only whitespace\n",
      "        l = l+1\n",
      "    elif compdat_file_lines[l].split(':')[0] == 'UUID': # found a new case\n",
      "        uuid = compdat_file_lines[l].split(' ')[1]\n",
      "        l = l+1\n",
      "        \n",
      "        compdat_entry = \"\"\n",
      "        while compdat_file_lines[l].strip() != '/': # loop until end of the compdat\n",
      "            compdat_entry = compdat_entry + compdat_file_lines[l] + '\\n'\n",
      "            l = l+1\n",
      "        compdat_entry = compdat_entry + '/\\n'\n",
      "        compdat_map[uuid] = compdat_entry\n",
      "    else: \n",
      "        l = l+1    "
     ],
     "language": "python",
     "metadata": {},
     "outputs": [],
     "prompt_number": 20
    },
    {
     "cell_type": "heading",
     "level": 2,
     "metadata": {},
     "source": [
      "1.2 Extract COMPDAT for Best Case"
     ]
    },
    {
     "cell_type": "code",
     "collapsed": false,
     "input": [
      "print(compdat_map[optimizer.best_case_pr_iteration[-1].uuid])"
     ],
     "language": "python",
     "metadata": {},
     "outputs": [
      {
       "ename": "KeyError",
       "evalue": "'{7077e953-b183-4045-8592-545af4d85fb8}'",
       "output_type": "pyerr",
       "traceback": [
        "\u001b[0;31m---------------------------------------------------------------------------\u001b[0m\n\u001b[0;31mKeyError\u001b[0m                                  Traceback (most recent call last)",
        "\u001b[0;32m<ipython-input-22-e8eddfe3ee01>\u001b[0m in \u001b[0;36m<module>\u001b[0;34m()\u001b[0m\n\u001b[0;32m----> 1\u001b[0;31m \u001b[0mprint\u001b[0m\u001b[0;34m(\u001b[0m\u001b[0mcompdat_map\u001b[0m\u001b[0;34m[\u001b[0m\u001b[0moptimizer\u001b[0m\u001b[0;34m.\u001b[0m\u001b[0mbest_case_pr_iteration\u001b[0m\u001b[0;34m[\u001b[0m\u001b[0;34m-\u001b[0m\u001b[0;36m1\u001b[0m\u001b[0;34m]\u001b[0m\u001b[0;34m.\u001b[0m\u001b[0muuid\u001b[0m\u001b[0;34m]\u001b[0m\u001b[0;34m)\u001b[0m\u001b[0;34m\u001b[0m\u001b[0m\n\u001b[0m",
        "\u001b[0;31mKeyError\u001b[0m: '{7077e953-b183-4045-8592-545af4d85fb8}'"
       ]
      }
     ],
     "prompt_number": 22
    },
    {
     "cell_type": "heading",
     "level": 2,
     "metadata": {},
     "source": [
      "1.3 Extract Interesting Wells"
     ]
    }
   ],
   "metadata": {}
  }
 ]
}